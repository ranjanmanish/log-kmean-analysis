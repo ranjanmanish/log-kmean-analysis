{
 "cells": [
  {
   "cell_type": "code",
   "execution_count": 3,
   "metadata": {
    "collapsed": false
   },
   "outputs": [],
   "source": [
    "doc = set(line.strip() for line in open('/Users/manishranjan/Manish_Learning/log-kmean-analysis/data/moz.txt'))\n"
   ]
  },
  {
   "cell_type": "code",
   "execution_count": 4,
   "metadata": {
    "collapsed": false
   },
   "outputs": [
    {
     "data": {
      "text/plain": [
       "178874"
      ]
     },
     "execution_count": 4,
     "metadata": {},
     "output_type": "execute_result"
    }
   ],
   "source": [
    "len(doc)"
   ]
  },
  {
   "cell_type": "code",
   "execution_count": 5,
   "metadata": {
    "collapsed": false
   },
   "outputs": [
    {
     "data": {
      "text/plain": [
       "set"
      ]
     },
     "execution_count": 5,
     "metadata": {},
     "output_type": "execute_result"
    }
   ],
   "source": [
    "type(doc)"
   ]
  },
  {
   "cell_type": "code",
   "execution_count": 6,
   "metadata": {
    "collapsed": true
   },
   "outputs": [],
   "source": [
    "list_doc = list(line.strip() for line in open('/Users/manishranjan/Manish_Learning/log-kmean-analysis/data/moz.txt'))\n"
   ]
  },
  {
   "cell_type": "code",
   "execution_count": 9,
   "metadata": {
    "collapsed": false
   },
   "outputs": [
    {
     "data": {
      "text/plain": [
       "list"
      ]
     },
     "execution_count": 9,
     "metadata": {},
     "output_type": "execute_result"
    }
   ],
   "source": [
    "type(list_doc)\n"
   ]
  },
  {
   "cell_type": "code",
   "execution_count": 16,
   "metadata": {
    "collapsed": false
   },
   "outputs": [
    {
     "data": {
      "text/plain": [
       "'{\"narrows-production\":{\"__string__\":\"\\\\\"[inject_prism_for_accuracy prism_injector]: handleMessage error { [Error: { method: \\'GET\\',\\\\\\\\n  host: \\'10.10.8.189\\',\\\\\\\\n  port: \\'3130\\',\\\\\\\\n  statusCode: 404 }]\\\\\\\\n  method: \\'GET\\',\\\\\\\\n  host: \\'10.10.8.189\\',\\\\\\\\n  port: \\'3130\\',\\\\\\\\n  statusCode: 404,\\\\\\\\n  path: \\'/prism/undefined\\',\\\\\\\\n  href: \\'http://10.10.8.189:3130/prism/undefined\\',\\\\\\\\n  bodies: { request: undefined, response: undefined } }\\\\\"\",\"log_level\":\"error\"}}'"
      ]
     },
     "execution_count": 16,
     "metadata": {},
     "output_type": "execute_result"
    }
   ],
   "source": [
    "list_doc[3]"
   ]
  },
  {
   "cell_type": "code",
   "execution_count": null,
   "metadata": {
    "collapsed": false
   },
   "outputs": [],
   "source": []
  },
  {
   "cell_type": "code",
   "execution_count": 19,
   "metadata": {
    "collapsed": false
   },
   "outputs": [],
   "source": [
    "list_new = []\n",
    "for elem in list_doc:\n",
    "    if len(elem) > 1:\n",
    "        list_new.append(elem)"
   ]
  },
  {
   "cell_type": "code",
   "execution_count": 20,
   "metadata": {
    "collapsed": false
   },
   "outputs": [
    {
     "data": {
      "text/plain": [
       "691957"
      ]
     },
     "execution_count": 20,
     "metadata": {},
     "output_type": "execute_result"
    }
   ],
   "source": [
    "len(list_new)"
   ]
  },
  {
   "cell_type": "code",
   "execution_count": 22,
   "metadata": {
    "collapsed": false
   },
   "outputs": [
    {
     "name": "stdout",
     "output_type": "stream",
     "text": [
      "{\"narrows-production\":{\"__string__\":\"\\\"[inject_prism_for_accuracy prism_injector]: handleMessage error { [Error: { method: 'GET',\\\\n  host: '10.10.8.189',\\\\n  port: '3130',\\\\n  statusCode: 404 }]\\\\n  method: 'GET',\\\\n  host: '10.10.8.189',\\\\n  port: '3130',\\\\n  statusCode: 404,\\\\n  path: '/prism/undefined',\\\\n  href: 'http://10.10.8.189:3130/prism/undefined',\\\\n  bodies: { request: undefined, response: undefined } }\\\"\",\"log_level\":\"error\"}}\n"
     ]
    }
   ],
   "source": [
    "print list_new[0]"
   ]
  },
  {
   "cell_type": "code",
   "execution_count": 26,
   "metadata": {
    "collapsed": false
   },
   "outputs": [],
   "source": [
    "set_doc = []\n",
    "for elem in list_new:\n",
    "    set_doc.append(elem)\n",
    "    "
   ]
  },
  {
   "cell_type": "code",
   "execution_count": 27,
   "metadata": {
    "collapsed": false
   },
   "outputs": [
    {
     "data": {
      "text/plain": [
       "691957"
      ]
     },
     "execution_count": 27,
     "metadata": {},
     "output_type": "execute_result"
    }
   ],
   "source": [
    "len(set_doc)"
   ]
  },
  {
   "cell_type": "code",
   "execution_count": 28,
   "metadata": {
    "collapsed": true
   },
   "outputs": [],
   "source": [
    "raw = list_new[0].lower()"
   ]
  },
  {
   "cell_type": "code",
   "execution_count": 31,
   "metadata": {
    "collapsed": false
   },
   "outputs": [],
   "source": [
    "from nltk.tokenize import RegexpTokenizer\n",
    "tokenizer = RegexpTokenizer(r'\\w+')\n",
    "tokens = tokenizer.tokenize(raw)"
   ]
  },
  {
   "cell_type": "code",
   "execution_count": 32,
   "metadata": {
    "collapsed": false
   },
   "outputs": [
    {
     "data": {
      "text/plain": [
       "['narrows',\n",
       " 'production',\n",
       " '__string__',\n",
       " 'inject_prism_for_accuracy',\n",
       " 'prism_injector',\n",
       " 'handlemessage',\n",
       " 'error',\n",
       " 'error',\n",
       " 'method',\n",
       " 'get',\n",
       " 'n',\n",
       " 'host',\n",
       " '10',\n",
       " '10',\n",
       " '8',\n",
       " '189',\n",
       " 'n',\n",
       " 'port',\n",
       " '3130',\n",
       " 'n',\n",
       " 'statuscode',\n",
       " '404',\n",
       " 'n',\n",
       " 'method',\n",
       " 'get',\n",
       " 'n',\n",
       " 'host',\n",
       " '10',\n",
       " '10',\n",
       " '8',\n",
       " '189',\n",
       " 'n',\n",
       " 'port',\n",
       " '3130',\n",
       " 'n',\n",
       " 'statuscode',\n",
       " '404',\n",
       " 'n',\n",
       " 'path',\n",
       " 'prism',\n",
       " 'undefined',\n",
       " 'n',\n",
       " 'href',\n",
       " 'http',\n",
       " '10',\n",
       " '10',\n",
       " '8',\n",
       " '189',\n",
       " '3130',\n",
       " 'prism',\n",
       " 'undefined',\n",
       " 'n',\n",
       " 'bodies',\n",
       " 'request',\n",
       " 'undefined',\n",
       " 'response',\n",
       " 'undefined',\n",
       " 'log_level',\n",
       " 'error']"
      ]
     },
     "execution_count": 32,
     "metadata": {},
     "output_type": "execute_result"
    }
   ],
   "source": [
    "tokens\n"
   ]
  },
  {
   "cell_type": "code",
   "execution_count": 34,
   "metadata": {
    "collapsed": false
   },
   "outputs": [],
   "source": [
    "from stop_words import get_stop_words\n",
    "en_stop = get_stop_words('en')\n"
   ]
  },
  {
   "cell_type": "code",
   "execution_count": 37,
   "metadata": {
    "collapsed": true
   },
   "outputs": [],
   "source": [
    "e.add\n",
    "stopped_tokens = [i for i in tokens if not i in en_stop]"
   ]
  },
  {
   "cell_type": "code",
   "execution_count": 36,
   "metadata": {
    "collapsed": false
   },
   "outputs": [
    {
     "name": "stdout",
     "output_type": "stream",
     "text": [
      "['narrows', 'production', '__string__', 'inject_prism_for_accuracy', 'prism_injector', 'handlemessage', 'error', 'error', 'method', 'get', 'n', 'host', '10', '10', '8', '189', 'n', 'port', '3130', 'n', 'statuscode', '404', 'n', 'method', 'get', 'n', 'host', '10', '10', '8', '189', 'n', 'port', '3130', 'n', 'statuscode', '404', 'n', 'path', 'prism', 'undefined', 'n', 'href', 'http', '10', '10', '8', '189', '3130', 'prism', 'undefined', 'n', 'bodies', 'request', 'undefined', 'response', 'undefined', 'log_level', 'error']\n"
     ]
    }
   ],
   "source": [
    "print stopped_tokens"
   ]
  },
  {
   "cell_type": "code",
   "execution_count": 52,
   "metadata": {
    "collapsed": false
   },
   "outputs": [
    {
     "name": "stdout",
     "output_type": "stream",
     "text": [
      "[u'a', u'about', u'above', u'after', u'again', u'against', u'all', u'am', u'an', u'and', u'any', u'are', u\"aren't\", u'as', u'at', u'be', u'because', u'been', u'before', u'being', u'below', u'between', u'both', u'but', u'by', u\"can't\", u'cannot', u'could', u\"couldn't\", u'did', u\"didn't\", u'do', u'does', u\"doesn't\", u'doing', u\"don't\", u'down', u'during', u'each', u'few', u'for', u'from', u'further', u'had', u\"hadn't\", u'has', u\"hasn't\", u'have', u\"haven't\", u'having', u'he', u\"he'd\", u\"he'll\", u\"he's\", u'her', u'here', u\"here's\", u'hers', u'herself', u'him', u'himself', u'his', u'how', u\"how's\", u'i', u\"i'd\", u\"i'll\", u\"i'm\", u\"i've\", u'if', u'in', u'into', u'is', u\"isn't\", u'it', u\"it's\", u'its', u'itself', u\"let's\", u'me', u'more', u'most', u\"mustn't\", u'my', u'myself', u'no', u'nor', u'not', u'of', u'off', u'on', u'once', u'only', u'or', u'other', u'ought', u'our', u'ours', u'ourselves', u'out', u'over', u'own', u'same', u\"shan't\", u'she', u\"she'd\", u\"she'll\", u\"she's\", u'should', u\"shouldn't\", u'so', u'some', u'such', u'than', u'that', u\"that's\", u'the', u'their', u'theirs', u'them', u'themselves', u'then', u'there', u\"there's\", u'these', u'they', u\"they'd\", u\"they'll\", u\"they're\", u\"they've\", u'this', u'those', u'through', u'to', u'too', u'under', u'until', u'up', u'very', u'was', u\"wasn't\", u'we', u\"we'd\", u\"we'll\", u\"we're\", u\"we've\", u'were', u\"weren't\", u'what', u\"what's\", u'when', u\"when's\", u'where', u\"where's\", u'which', u'while', u'who', u\"who's\", u'whom', u'why', u\"why's\", u'with', u\"won't\", u'would', u\"wouldn't\", u'you', u\"you'd\", u\"you'll\", u\"you're\", u\"you've\", u'your', u'yours', u'yourself', u'yourselves', 0, 1, 2, 3, 4, 5, 6, 7, 8, 9, 10, 11, 12, 13, 14, 15, 16, 17, 18, 19, 20, 21, 22, 23, 24, 25, 26, 27, 28, 29, 30, 31, 32, 33, 34, 35, 36, 37, 38, 39, 40, 41, 42, 43, 44, 45, 46, 47, 48, 49, 50, 51, 52, 53, 54, 55, 56, 57, 58, 59, 60, 61, 62, 63, 64, 65, 66, 67, 68, 69, 70, 71, 72, 73, 74, 75, 76, 77, 78, 79, 80, 81, 82, 83, 84, 85, 86, 87, 88, 89, 90, 91, 92, 93, 94, 95, 96, 97, 98, 99, 100, 101, 102, 103, 104, 105, 106, 107, 108, 109, 110, 111, 112, 113, 114, 115, 116, 117, 118, 119, 120, 121, 122, 123, 124, 125, 126, 127, 128, 129, 130, 131, 132, 133, 134, 135, 136, 137, 138, 139, 140, 141, 142, 143, 144, 145, 146, 147, 148, 149, 150, 151, 152, 153, 154, 155, 156, 157, 158, 159, 160, 161, 162, 163, 164, 165, 166, 167, 168, 169, 170, 171, 172, 173, 174, 175, 176, 177, 178, 179, 180, 181, 182, 183, 184, 185, 186, 187, 188, 189, 190, 191, 192, 193, 194, 195, 196, 197, 198, 199, \"'0'\", \"'1'\", \"'2'\", \"'3'\", \"'4'\", \"'5'\", \"'6'\", \"'7'\", \"'8'\", \"'9'\", \"'10'\", \"'11'\", \"'12'\", \"'13'\", \"'14'\", \"'15'\", \"'16'\", \"'17'\", \"'18'\", \"'19'\", \"'20'\", \"'21'\", \"'22'\", \"'23'\", \"'24'\", \"'25'\", \"'26'\", \"'27'\", \"'28'\", \"'29'\", \"'30'\", \"'31'\", \"'32'\", \"'33'\", \"'34'\", \"'35'\", \"'36'\", \"'37'\", \"'38'\", \"'39'\", \"'40'\", \"'41'\", \"'42'\", \"'43'\", \"'44'\", \"'45'\", \"'46'\", \"'47'\", \"'48'\", \"'49'\", \"'50'\", \"'51'\", \"'52'\", \"'53'\", \"'54'\", \"'55'\", \"'56'\", \"'57'\", \"'58'\", \"'59'\", \"'60'\", \"'61'\", \"'62'\", \"'63'\", \"'64'\", \"'65'\", \"'66'\", \"'67'\", \"'68'\", \"'69'\", \"'70'\", \"'71'\", \"'72'\", \"'73'\", \"'74'\", \"'75'\", \"'76'\", \"'77'\", \"'78'\", \"'79'\", \"'80'\", \"'81'\", \"'82'\", \"'83'\", \"'84'\", \"'85'\", \"'86'\", \"'87'\", \"'88'\", \"'89'\", \"'90'\", \"'91'\", \"'92'\", \"'93'\", \"'94'\", \"'95'\", \"'96'\", \"'97'\", \"'98'\", \"'99'\", \"'100'\", \"'101'\", \"'102'\", \"'103'\", \"'104'\", \"'105'\", \"'106'\", \"'107'\", \"'108'\", \"'109'\", \"'110'\", \"'111'\", \"'112'\", \"'113'\", \"'114'\", \"'115'\", \"'116'\", \"'117'\", \"'118'\", \"'119'\", \"'120'\", \"'121'\", \"'122'\", \"'123'\", \"'124'\", \"'125'\", \"'126'\", \"'127'\", \"'128'\", \"'129'\", \"'130'\", \"'131'\", \"'132'\", \"'133'\", \"'134'\", \"'135'\", \"'136'\", \"'137'\", \"'138'\", \"'139'\", \"'140'\", \"'141'\", \"'142'\", \"'143'\", \"'144'\", \"'145'\", \"'146'\", \"'147'\", \"'148'\", \"'149'\", \"'150'\", \"'151'\", \"'152'\", \"'153'\", \"'154'\", \"'155'\", \"'156'\", \"'157'\", \"'158'\", \"'159'\", \"'160'\", \"'161'\", \"'162'\", \"'163'\", \"'164'\", \"'165'\", \"'166'\", \"'167'\", \"'168'\", \"'169'\", \"'170'\", \"'171'\", \"'172'\", \"'173'\", \"'174'\", \"'175'\", \"'176'\", \"'177'\", \"'178'\", \"'179'\", \"'180'\", \"'181'\", \"'182'\", \"'183'\", \"'184'\", \"'185'\", \"'186'\", \"'187'\", \"'188'\", \"'189'\", \"'190'\", \"'191'\", \"'192'\", \"'193'\", \"'194'\", \"'195'\", \"'196'\", \"'197'\", \"'198'\", \"'199'\", \"'0'\", \"'1'\", \"'2'\", \"'3'\", \"'4'\", \"'5'\", \"'6'\", \"'7'\", \"'8'\", \"'9'\", \"'10'\", \"'11'\", \"'12'\", \"'13'\", \"'14'\", \"'15'\", \"'16'\", \"'17'\", \"'18'\", \"'19'\", \"'20'\", \"'21'\", \"'22'\", \"'23'\", \"'24'\", \"'25'\", \"'26'\", \"'27'\", \"'28'\", \"'29'\", \"'30'\", \"'31'\", \"'32'\", \"'33'\", \"'34'\", \"'35'\", \"'36'\", \"'37'\", \"'38'\", \"'39'\", \"'40'\", \"'41'\", \"'42'\", \"'43'\", \"'44'\", \"'45'\", \"'46'\", \"'47'\", \"'48'\", \"'49'\", \"'50'\", \"'51'\", \"'52'\", \"'53'\", \"'54'\", \"'55'\", \"'56'\", \"'57'\", \"'58'\", \"'59'\", \"'60'\", \"'61'\", \"'62'\", \"'63'\", \"'64'\", \"'65'\", \"'66'\", \"'67'\", \"'68'\", \"'69'\", \"'70'\", \"'71'\", \"'72'\", \"'73'\", \"'74'\", \"'75'\", \"'76'\", \"'77'\", \"'78'\", \"'79'\", \"'80'\", \"'81'\", \"'82'\", \"'83'\", \"'84'\", \"'85'\", \"'86'\", \"'87'\", \"'88'\", \"'89'\", \"'90'\", \"'91'\", \"'92'\", \"'93'\", \"'94'\", \"'95'\", \"'96'\", \"'97'\", \"'98'\", \"'99'\", \"'100'\", \"'101'\", \"'102'\", \"'103'\", \"'104'\", \"'105'\", \"'106'\", \"'107'\", \"'108'\", \"'109'\", \"'110'\", \"'111'\", \"'112'\", \"'113'\", \"'114'\", \"'115'\", \"'116'\", \"'117'\", \"'118'\", \"'119'\", \"'120'\", \"'121'\", \"'122'\", \"'123'\", \"'124'\", \"'125'\", \"'126'\", \"'127'\", \"'128'\", \"'129'\", \"'130'\", \"'131'\", \"'132'\", \"'133'\", \"'134'\", \"'135'\", \"'136'\", \"'137'\", \"'138'\", \"'139'\", \"'140'\", \"'141'\", \"'142'\", \"'143'\", \"'144'\", \"'145'\", \"'146'\", \"'147'\", \"'148'\", \"'149'\", \"'150'\", \"'151'\", \"'152'\", \"'153'\", \"'154'\", \"'155'\", \"'156'\", \"'157'\", \"'158'\", \"'159'\", \"'160'\", \"'161'\", \"'162'\", \"'163'\", \"'164'\", \"'165'\", \"'166'\", \"'167'\", \"'168'\", \"'169'\", \"'170'\", \"'171'\", \"'172'\", \"'173'\", \"'174'\", \"'175'\", \"'176'\", \"'177'\", \"'178'\", \"'179'\", \"'180'\", \"'181'\", \"'182'\", \"'183'\", \"'184'\", \"'185'\", \"'186'\", \"'187'\", \"'188'\", \"'189'\", \"'190'\", \"'191'\", \"'192'\", \"'193'\", \"'194'\", \"'195'\", \"'196'\", \"'197'\", \"'198'\", \"'199'\", '0', '1', '2', '3', '4', '5', '6', '7', '8', '9', '10', '11', '12', '13', '14', '15', '16', '17', '18', '19', '20', '21', '22', '23', '24', '25', '26', '27', '28', '29', '30', '31', '32', '33', '34', '35', '36', '37', '38', '39', '40', '41', '42', '43', '44', '45', '46', '47', '48', '49', '50', '51', '52', '53', '54', '55', '56', '57', '58', '59', '60', '61', '62', '63', '64', '65', '66', '67', '68', '69', '70', '71', '72', '73', '74', '75', '76', '77', '78', '79', '80', '81', '82', '83', '84', '85', '86', '87', '88', '89', '90', '91', '92', '93', '94', '95', '96', '97', '98', '99', '100', '101', '102', '103', '104', '105', '106', '107', '108', '109', '110', '111', '112', '113', '114', '115', '116', '117', '118', '119', '120', '121', '122', '123', '124', '125', '126', '127', '128', '129', '130', '131', '132', '133', '134', '135', '136', '137', '138', '139', '140', '141', '142', '143', '144', '145', '146', '147', '148', '149', '150', '151', '152', '153', '154', '155', '156', '157', '158', '159', '160', '161', '162', '163', '164', '165', '166', '167', '168', '169', '170', '171', '172', '173', '174', '175', '176', '177', '178', '179', '180', '181', '182', '183', '184', '185', '186', '187', '188', '189', '190', '191', '192', '193', '194', '195', '196', '197', '198', '199', '0', '1', '2', '3', '4', '5', '6', '7', '8', '9', '10', '11', '12', '13', '14', '15', '16', '17', '18', '19', '20', '21', '22', '23', '24', '25', '26', '27', '28', '29', '30', '31', '32', '33', '34', '35', '36', '37', '38', '39', '40', '41', '42', '43', '44', '45', '46', '47', '48', '49', '50', '51', '52', '53', '54', '55', '56', '57', '58', '59', '60', '61', '62', '63', '64', '65', '66', '67', '68', '69', '70', '71', '72', '73', '74', '75', '76', '77', '78', '79', '80', '81', '82', '83', '84', '85', '86', '87', '88', '89', '90', '91', '92', '93', '94', '95', '96', '97', '98', '99', '100', '101', '102', '103', '104', '105', '106', '107', '108', '109', '110', '111', '112', '113', '114', '115', '116', '117', '118', '119', '120', '121', '122', '123', '124', '125', '126', '127', '128', '129', '130', '131', '132', '133', '134', '135', '136', '137', '138', '139', '140', '141', '142', '143', '144', '145', '146', '147', '148', '149', '150', '151', '152', '153', '154', '155', '156', '157', '158', '159', '160', '161', '162', '163', '164', '165', '166', '167', '168', '169', '170', '171', '172', '173', '174', '175', '176', '177', '178', '179', '180', '181', '182', '183', '184', '185', '186', '187', '188', '189', '190', '191', '192', '193', '194', '195', '196', '197', '198', '199']\n"
     ]
    }
   ],
   "source": [
    "for num in range(0, 200):\n",
    "    en_stop.append(str(num))\n",
    "    \n",
    "print en_stop"
   ]
  },
  {
   "cell_type": "code",
   "execution_count": 53,
   "metadata": {
    "collapsed": true
   },
   "outputs": [],
   "source": [
    "stopped_tokens = [i for i in tokens if not i in en_stop]\n"
   ]
  },
  {
   "cell_type": "code",
   "execution_count": 54,
   "metadata": {
    "collapsed": false
   },
   "outputs": [
    {
     "name": "stdout",
     "output_type": "stream",
     "text": [
      "['narrows', 'production', '__string__', 'inject_prism_for_accuracy', 'prism_injector', 'handlemessage', 'error', 'error', 'method', 'get', 'n', 'host', 'n', 'port', '3130', 'n', 'statuscode', '404', 'n', 'method', 'get', 'n', 'host', 'n', 'port', '3130', 'n', 'statuscode', '404', 'n', 'path', 'prism', 'undefined', 'n', 'href', 'http', '3130', 'prism', 'undefined', 'n', 'bodies', 'request', 'undefined', 'response', 'undefined', 'log_level', 'error']\n"
     ]
    }
   ],
   "source": [
    "print stopped_tokens"
   ]
  },
  {
   "cell_type": "code",
   "execution_count": 55,
   "metadata": {
    "collapsed": true
   },
   "outputs": [],
   "source": [
    "from gensim import corpora, models"
   ]
  },
  {
   "cell_type": "code",
   "execution_count": 64,
   "metadata": {
    "collapsed": false
   },
   "outputs": [
    {
     "ename": "SyntaxError",
     "evalue": "invalid syntax (<ipython-input-64-b43a571d627e>, line 4)",
     "output_type": "error",
     "traceback": [
      "\u001b[0;36m  File \u001b[0;32m\"<ipython-input-64-b43a571d627e>\"\u001b[0;36m, line \u001b[0;32m4\u001b[0m\n\u001b[0;31m    texts =  [print (i) for i in stopped_tokens]\u001b[0m\n\u001b[0m                  ^\u001b[0m\n\u001b[0;31mSyntaxError\u001b[0m\u001b[0;31m:\u001b[0m invalid syntax\n"
     ]
    }
   ],
   "source": [
    "from nltk.stem.porter import PorterStemmer\n",
    "\n",
    "# Create p_stemmer of class PorterStemmer\n",
    "texts =  [print (i) for i in stopped_tokens]\n",
    "\n",
    "from gensim import corpora, models\n",
    "dictionary = corpora.Dictionary(texts)"
   ]
  },
  {
   "cell_type": "code",
   "execution_count": 65,
   "metadata": {
    "collapsed": false
   },
   "outputs": [
    {
     "name": "stdout",
     "output_type": "stream",
     "text": [
      "<type 'list'>\n"
     ]
    }
   ],
   "source": [
    "print type(stopped_tokens)"
   ]
  },
  {
   "cell_type": "code",
   "execution_count": 66,
   "metadata": {
    "collapsed": false
   },
   "outputs": [
    {
     "ename": "TypeError",
     "evalue": "doc2bow expects an array of unicode tokens on input, not a single string",
     "output_type": "error",
     "traceback": [
      "\u001b[0;31m---------------------------------------------------------------------------\u001b[0m",
      "\u001b[0;31mTypeError\u001b[0m                                 Traceback (most recent call last)",
      "\u001b[0;32m<ipython-input-66-1e4ab9ff7103>\u001b[0m in \u001b[0;36m<module>\u001b[0;34m()\u001b[0m\n\u001b[1;32m      1\u001b[0m \u001b[0;32mfrom\u001b[0m \u001b[0mgensim\u001b[0m \u001b[0;32mimport\u001b[0m \u001b[0mcorpora\u001b[0m\u001b[0;34m,\u001b[0m \u001b[0mmodels\u001b[0m\u001b[0;34m\u001b[0m\u001b[0m\n\u001b[0;32m----> 2\u001b[0;31m \u001b[0mdictionary\u001b[0m \u001b[0;34m=\u001b[0m \u001b[0mcorpora\u001b[0m\u001b[0;34m.\u001b[0m\u001b[0mDictionary\u001b[0m\u001b[0;34m(\u001b[0m\u001b[0mstopped_tokens\u001b[0m\u001b[0;34m)\u001b[0m\u001b[0;34m\u001b[0m\u001b[0m\n\u001b[0m",
      "\u001b[0;32m/Users/manishranjan/anaconda2/lib/python2.7/site-packages/gensim/corpora/dictionary.pyc\u001b[0m in \u001b[0;36m__init__\u001b[0;34m(self, documents, prune_at)\u001b[0m\n\u001b[1;32m     56\u001b[0m \u001b[0;34m\u001b[0m\u001b[0m\n\u001b[1;32m     57\u001b[0m         \u001b[0;32mif\u001b[0m \u001b[0mdocuments\u001b[0m \u001b[0;32mis\u001b[0m \u001b[0;32mnot\u001b[0m \u001b[0mNone\u001b[0m\u001b[0;34m:\u001b[0m\u001b[0;34m\u001b[0m\u001b[0m\n\u001b[0;32m---> 58\u001b[0;31m             \u001b[0mself\u001b[0m\u001b[0;34m.\u001b[0m\u001b[0madd_documents\u001b[0m\u001b[0;34m(\u001b[0m\u001b[0mdocuments\u001b[0m\u001b[0;34m,\u001b[0m \u001b[0mprune_at\u001b[0m\u001b[0;34m=\u001b[0m\u001b[0mprune_at\u001b[0m\u001b[0;34m)\u001b[0m\u001b[0;34m\u001b[0m\u001b[0m\n\u001b[0m\u001b[1;32m     59\u001b[0m \u001b[0;34m\u001b[0m\u001b[0m\n\u001b[1;32m     60\u001b[0m     \u001b[0;32mdef\u001b[0m \u001b[0m__getitem__\u001b[0m\u001b[0;34m(\u001b[0m\u001b[0mself\u001b[0m\u001b[0;34m,\u001b[0m \u001b[0mtokenid\u001b[0m\u001b[0;34m)\u001b[0m\u001b[0;34m:\u001b[0m\u001b[0;34m\u001b[0m\u001b[0m\n",
      "\u001b[0;32m/Users/manishranjan/anaconda2/lib/python2.7/site-packages/gensim/corpora/dictionary.pyc\u001b[0m in \u001b[0;36madd_documents\u001b[0;34m(self, documents, prune_at)\u001b[0m\n\u001b[1;32m    117\u001b[0m \u001b[0;34m\u001b[0m\u001b[0m\n\u001b[1;32m    118\u001b[0m             \u001b[0;31m# update Dictionary with the document\u001b[0m\u001b[0;34m\u001b[0m\u001b[0;34m\u001b[0m\u001b[0m\n\u001b[0;32m--> 119\u001b[0;31m             \u001b[0mself\u001b[0m\u001b[0;34m.\u001b[0m\u001b[0mdoc2bow\u001b[0m\u001b[0;34m(\u001b[0m\u001b[0mdocument\u001b[0m\u001b[0;34m,\u001b[0m \u001b[0mallow_update\u001b[0m\u001b[0;34m=\u001b[0m\u001b[0mTrue\u001b[0m\u001b[0;34m)\u001b[0m  \u001b[0;31m# ignore the result, here we only care about updating token ids\u001b[0m\u001b[0;34m\u001b[0m\u001b[0m\n\u001b[0m\u001b[1;32m    120\u001b[0m \u001b[0;34m\u001b[0m\u001b[0m\n\u001b[1;32m    121\u001b[0m         logger.info(\n",
      "\u001b[0;32m/Users/manishranjan/anaconda2/lib/python2.7/site-packages/gensim/corpora/dictionary.pyc\u001b[0m in \u001b[0;36mdoc2bow\u001b[0;34m(self, document, allow_update, return_missing)\u001b[0m\n\u001b[1;32m    139\u001b[0m         \"\"\"\n\u001b[1;32m    140\u001b[0m         \u001b[0;32mif\u001b[0m \u001b[0misinstance\u001b[0m\u001b[0;34m(\u001b[0m\u001b[0mdocument\u001b[0m\u001b[0;34m,\u001b[0m \u001b[0mstring_types\u001b[0m\u001b[0;34m)\u001b[0m\u001b[0;34m:\u001b[0m\u001b[0;34m\u001b[0m\u001b[0m\n\u001b[0;32m--> 141\u001b[0;31m             \u001b[0;32mraise\u001b[0m \u001b[0mTypeError\u001b[0m\u001b[0;34m(\u001b[0m\u001b[0;34m\"doc2bow expects an array of unicode tokens on input, not a single string\"\u001b[0m\u001b[0;34m)\u001b[0m\u001b[0;34m\u001b[0m\u001b[0m\n\u001b[0m\u001b[1;32m    142\u001b[0m \u001b[0;34m\u001b[0m\u001b[0m\n\u001b[1;32m    143\u001b[0m         \u001b[0;31m# Construct (word, frequency) mapping.\u001b[0m\u001b[0;34m\u001b[0m\u001b[0;34m\u001b[0m\u001b[0m\n",
      "\u001b[0;31mTypeError\u001b[0m: doc2bow expects an array of unicode tokens on input, not a single string"
     ]
    }
   ],
   "source": [
    "from gensim import corpora, models\n",
    "dictionary = corpora.Dictionary(stopped_tokens)"
   ]
  },
  {
   "cell_type": "code",
   "execution_count": 82,
   "metadata": {
    "collapsed": false
   },
   "outputs": [
    {
     "name": "stdout",
     "output_type": "stream",
     "text": [
      "[u'brocolli', u'good', u'eat', u'brother', u'like', u'eat', u'good', u'brocolli', u'mother']\n",
      "[u'brocolli', u'good', u'eat', u'brother', u'like', u'eat', u'good', u'brocolli', u'mother']\n",
      "[u'brocolli', u'good', u'eat', u'brother', u'like', u'eat', u'good', u'brocolli', u'mother']\n",
      "[u'brocolli', u'good', u'eat', u'brother', u'like', u'eat', u'good', u'brocolli', u'mother']\n",
      "[u'brocolli', u'good', u'eat', u'brother', u'like', u'eat', u'good', u'brocolli', u'mother']\n",
      "Dictionary(32 unique tokens: [u'often', u'feel', u'profession', u'drive', u'say']...)\n",
      "[(0, 2), (1, 2), (2, 1), (3, 1), (4, 1), (5, 2)]\n"
     ]
    }
   ],
   "source": [
    "from nltk.tokenize import RegexpTokenizer\n",
    "from stop_words import get_stop_words\n",
    "from nltk.stem.porter import PorterStemmer\n",
    "from gensim import corpora, models\n",
    "import gensim\n",
    "\n",
    "tokenizer = RegexpTokenizer(r'\\w+')\n",
    "\n",
    "# create English stop words list\n",
    "en_stop = get_stop_words('en')\n",
    "\n",
    "# Create p_stemmer of class PorterStemmer\n",
    "p_stemmer = PorterStemmer()\n",
    "    \n",
    "# create sample documents\n",
    "doc_a = \"Brocolli is good to eat. My brother likes to eat good brocolli, but not my mother.\"\n",
    "doc_b = \"My mother spends a lot of time driving my brother around to baseball practice.\"\n",
    "doc_c = \"Some health experts suggest that driving may cause increased tension and blood pressure.\"\n",
    "doc_d = \"I often feel pressure to perform well at school, but my mother never seems to drive my brother to do better.\"\n",
    "doc_e = \"Health professionals say that brocolli is good for your health.\" \n",
    "\n",
    "# compile sample documents into a list\n",
    "doc_set = [doc_a, doc_b, doc_c, doc_d, doc_e]\n",
    "\n",
    "# list for tokenized documents in loop\n",
    "texts = []\n",
    "\n",
    "# loop through document list\n",
    "for i in doc_set:\n",
    "    \n",
    "    # clean and tokenize document string\n",
    "    raw = i.lower()\n",
    "    tokens = tokenizer.tokenize(raw)\n",
    "\n",
    "    # remove stop words from tokens\n",
    "    stopped_tokens = [i for i in tokens if not i in en_stop]\n",
    "    \n",
    "    # stem tokens\n",
    "    stemmed_tokens = [p_stemmer.stem(i) for i in stopped_tokens]\n",
    "    \n",
    "    # add tokens to list\n",
    "    texts.append(stemmed_tokens)\n",
    "    \n",
    "    print texts[0]\n",
    "\n",
    "# turn our tokenized documents into a id <-> term dictionary\n",
    "dictionary = corpora.Dictionary(texts)\n",
    "\n",
    "print(dictionary)\n",
    "\n",
    "# convert tokenized documents into a document-term matrix\n",
    "corpus = [dictionary.doc2bow(text) for text in texts]\n",
    "print corpus[0]\n",
    "\n",
    "# generate LDA model\n",
    "ldamodel = gensim.models.ldamodel.LdaModel(corpus, num_topics=2, id2word = dictionary, passes=20)\n"
   ]
  },
  {
   "cell_type": "code",
   "execution_count": 69,
   "metadata": {
    "collapsed": false
   },
   "outputs": [
    {
     "name": "stdout",
     "output_type": "stream",
     "text": [
      "[(0, u'0.058*\"brocolli\" + 0.058*\"good\" + 0.057*\"mother\"'), (1, u'0.074*\"health\" + 0.045*\"pressur\" + 0.044*\"drive\"')]\n"
     ]
    }
   ],
   "source": [
    "print(ldamodel.print_topics(num_topics=3, num_words=3))\n"
   ]
  },
  {
   "cell_type": "code",
   "execution_count": null,
   "metadata": {
    "collapsed": true
   },
   "outputs": [],
   "source": []
  }
 ],
 "metadata": {
  "kernelspec": {
   "display_name": "Python [default]",
   "language": "python",
   "name": "python2"
  },
  "language_info": {
   "codemirror_mode": {
    "name": "ipython",
    "version": 2
   },
   "file_extension": ".py",
   "mimetype": "text/x-python",
   "name": "python",
   "nbconvert_exporter": "python",
   "pygments_lexer": "ipython2",
   "version": "2.7.12"
  }
 },
 "nbformat": 4,
 "nbformat_minor": 1
}
